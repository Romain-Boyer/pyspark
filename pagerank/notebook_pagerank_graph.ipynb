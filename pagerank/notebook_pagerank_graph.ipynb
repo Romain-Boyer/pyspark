{
 "cells": [
  {
   "cell_type": "markdown",
   "metadata": {},
   "source": [
    "# PageRank with GraphFrames\n",
    "> A ouvrir avec un Jupyter qui a graphframes !"
   ]
  },
  {
   "cell_type": "code",
   "execution_count": 1,
   "metadata": {},
   "outputs": [],
   "source": [
    "import os\n",
    "import time\n",
    "\n",
    "import findspark\n",
    "\n",
    "findspark.init()\n",
    "import pyspark\n",
    "from graphframes import *\n",
    "from pyspark.sql import SparkSession\n",
    "from pyspark.sql.types import StructType, StructField, StringType\n",
    "from pyspark.sql.functions import lit, desc"
   ]
  },
  {
   "cell_type": "code",
   "execution_count": 2,
   "metadata": {},
   "outputs": [],
   "source": [
    "spark = SparkSession.builder \\\n",
    "    .master('local') \\\n",
    "    .appName('PageRank') \\\n",
    "    .getOrCreate()"
   ]
  },
  {
   "cell_type": "code",
   "execution_count": 3,
   "metadata": {},
   "outputs": [],
   "source": [
    "PATH_NETWORK = '/Users/rboyer/dev/pyspark/pagerank/data/test.txt'"
   ]
  },
  {
   "cell_type": "code",
   "execution_count": 4,
   "metadata": {},
   "outputs": [],
   "source": [
    "t1 = time.time()\n",
    "beta = 0.8\n",
    "\n",
    "# Crée le schema du dataframe\n",
    "schema = StructType([\n",
    "    StructField(\"src\", StringType(), True),\n",
    "    StructField(\"dst\", StringType(), True),\n",
    "])\n",
    "\n",
    "# Charge le dataframe a partir du .txt\n",
    "transition_matrix = spark.read.load(\n",
    "    PATH_NETWORK,\n",
    "    header=None,\n",
    "    schema=schema,\n",
    "    format='csv',\n",
    "    sep='\\t',\n",
    ")\n",
    "\n",
    "# Initialise le vecteur pagerank\n",
    "initial_pr_source = transition_matrix \\\n",
    "    .select('src') \\\n",
    "    .withColumnRenamed('src', 'id') \\\n",
    "    .distinct()\n",
    "initial_pr_desti = transition_matrix \\\n",
    "    .select('dst') \\\n",
    "    .withColumnRenamed('dst', 'id') \\\n",
    "    .distinct()\n",
    "\n",
    "pagerank = initial_pr_source.union(initial_pr_desti) \\\n",
    "    .distinct()"
   ]
  },
  {
   "cell_type": "code",
   "execution_count": 5,
   "metadata": {},
   "outputs": [
    {
     "name": "stdout",
     "output_type": "stream",
     "text": [
      "+---+---+\n",
      "|src|dst|\n",
      "+---+---+\n",
      "|  1|  2|\n",
      "|  1|  4|\n",
      "|  1|  3|\n",
      "|  2|  1|\n",
      "|  2|  4|\n",
      "|  3|  3|\n",
      "|  4|  2|\n",
      "|  4|  3|\n",
      "|  1|  6|\n",
      "|  5|  1|\n",
      "+---+---+\n",
      "\n"
     ]
    }
   ],
   "source": [
    "transition_matrix.show()"
   ]
  },
  {
   "cell_type": "code",
   "execution_count": 6,
   "metadata": {},
   "outputs": [
    {
     "name": "stdout",
     "output_type": "stream",
     "text": [
      "+---+\n",
      "| id|\n",
      "+---+\n",
      "|  3|\n",
      "|  5|\n",
      "|  6|\n",
      "|  1|\n",
      "|  4|\n",
      "|  2|\n",
      "+---+\n",
      "\n"
     ]
    }
   ],
   "source": [
    "pagerank.show()"
   ]
  },
  {
   "cell_type": "code",
   "execution_count": 8,
   "metadata": {},
   "outputs": [],
   "source": [
    "our_graph = GraphFrame(pagerank, transition_matrix)"
   ]
  },
  {
   "cell_type": "code",
   "execution_count": null,
   "metadata": {},
   "outputs": [],
   "source": [
    "page_ranks = our_graph.pageRank(resetProbability=0.20, tol=0.5)"
   ]
  },
  {
   "cell_type": "code",
   "execution_count": null,
   "metadata": {},
   "outputs": [],
   "source": [
    "page_ranks.vertices.select('id', 'pagerank').show()"
   ]
  },
  {
   "cell_type": "code",
   "execution_count": null,
   "metadata": {},
   "outputs": [],
   "source": []
  }
 ],
 "metadata": {
  "kernelspec": {
   "display_name": "Python 3",
   "language": "python",
   "name": "python3"
  },
  "language_info": {
   "codemirror_mode": {
    "name": "ipython",
    "version": 3
   },
   "file_extension": ".py",
   "mimetype": "text/x-python",
   "name": "python",
   "nbconvert_exporter": "python",
   "pygments_lexer": "ipython3",
   "version": "3.6.5"
  }
 },
 "nbformat": 4,
 "nbformat_minor": 2
}
